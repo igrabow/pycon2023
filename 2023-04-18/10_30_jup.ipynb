{
 "cells": [
  {
   "cell_type": "code",
   "execution_count": null,
   "metadata": {},
   "outputs": [],
   "source": [
    "class C:\n",
    "\n",
    "    def meth(self):\n",
    "        return 42\n",
    "        \n",
    "    def func():\n",
    "        return 42\n",
    "\n",
    "    func = staticmethod(func)\n",
    "    \n",
    "c = C()\n",
    "c.func()\n",
    "c.meth()"
   ]
  }
 ],
 "metadata": {
  "language_info": {
   "name": "python"
  },
  "orig_nbformat": 4
 },
 "nbformat": 4,
 "nbformat_minor": 2
}
